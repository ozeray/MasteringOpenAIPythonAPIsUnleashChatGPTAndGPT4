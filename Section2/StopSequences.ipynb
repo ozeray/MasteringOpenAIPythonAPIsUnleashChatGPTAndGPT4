{
 "cells": [
  {
   "cell_type": "code",
   "execution_count": 65,
   "outputs": [],
   "source": [
    "import openai"
   ],
   "metadata": {
    "collapsed": false,
    "ExecuteTime": {
     "end_time": "2023-10-09T09:29:50.352210310Z",
     "start_time": "2023-10-09T09:29:50.234916423Z"
    }
   },
   "id": "cd4bf470714359dc"
  },
  {
   "cell_type": "code",
   "execution_count": 66,
   "outputs": [],
   "source": [
    "from dotenv import dotenv_values\n",
    "config = dotenv_values(\"../.env\")"
   ],
   "metadata": {
    "collapsed": false,
    "ExecuteTime": {
     "end_time": "2023-10-09T09:29:50.352510636Z",
     "start_time": "2023-10-09T09:29:50.279702912Z"
    }
   },
   "id": "fdaece001f27db6c"
  },
  {
   "cell_type": "code",
   "execution_count": 67,
   "outputs": [],
   "source": [
    "openai.api_key = config[\"OPEN_API_KEY\"]"
   ],
   "metadata": {
    "collapsed": false,
    "ExecuteTime": {
     "end_time": "2023-10-09T09:29:50.352692057Z",
     "start_time": "2023-10-09T09:29:50.279940720Z"
    }
   },
   "id": "7970dd431e3eee85"
  },
  {
   "cell_type": "code",
   "execution_count": 68,
   "outputs": [
    {
     "name": "stdout",
     "output_type": "stream",
     "text": [
      "stop\n",
      "\n",
      "\n",
      "1. The Godfather (1972)\n",
      "2. The Shawshank Redemption (1994)\n",
      "3. Citizen Kane (1941)\n",
      "4. Casablanca (1942)\n",
      "5. Schindler's List (1993)\n",
      "6. Raging Bull (1980)\n",
      "7. The Wizard of Oz (1939)\n",
      "8. Gone with the Wind (1939)\n",
      "9. The Lord of the Rings: The Return of the King (2003)\n"
     ]
    }
   ],
   "source": [
    "response = openai.Completion.create(\n",
    "    model = \"text-davinci-003\",\n",
    "    prompt=\"Generate a list of the best movies of all time\",\n",
    "    max_tokens=1200,\n",
    "    stop=[\"10.\", \"Pulp Fiction\"]\n",
    ")\n",
    "answer = response[\"choices\"][0] \n",
    "print(answer[\"finish_reason\"])\n",
    "print(answer[\"text\"])"
   ],
   "metadata": {
    "collapsed": false,
    "ExecuteTime": {
     "end_time": "2023-10-09T09:29:52.155614436Z",
     "start_time": "2023-10-09T09:29:50.280071026Z"
    }
   },
   "id": "9015fa7518243282"
  }
 ],
 "metadata": {
  "kernelspec": {
   "display_name": "Python 3",
   "language": "python",
   "name": "python3"
  },
  "language_info": {
   "codemirror_mode": {
    "name": "ipython",
    "version": 2
   },
   "file_extension": ".py",
   "mimetype": "text/x-python",
   "name": "python",
   "nbconvert_exporter": "python",
   "pygments_lexer": "ipython2",
   "version": "2.7.6"
  }
 },
 "nbformat": 4,
 "nbformat_minor": 5
}
