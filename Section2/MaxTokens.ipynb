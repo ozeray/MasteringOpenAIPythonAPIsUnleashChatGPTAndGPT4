{
 "cells": [
  {
   "cell_type": "code",
   "execution_count": 17,
   "outputs": [],
   "source": [
    "import openai"
   ],
   "metadata": {
    "collapsed": false,
    "ExecuteTime": {
     "end_time": "2023-10-09T09:08:24.371956826Z",
     "start_time": "2023-10-09T09:08:24.303781652Z"
    }
   },
   "id": "cd4bf470714359dc"
  },
  {
   "cell_type": "code",
   "execution_count": 18,
   "outputs": [],
   "source": [
    "from dotenv import dotenv_values\n",
    "config = dotenv_values(\"../.env\")"
   ],
   "metadata": {
    "collapsed": false,
    "ExecuteTime": {
     "end_time": "2023-10-09T09:08:24.513014972Z",
     "start_time": "2023-10-09T09:08:24.347832983Z"
    }
   },
   "id": "fdaece001f27db6c"
  },
  {
   "cell_type": "code",
   "execution_count": 19,
   "outputs": [],
   "source": [
    "openai.api_key = config[\"OPEN_API_KEY\"]"
   ],
   "metadata": {
    "collapsed": false,
    "ExecuteTime": {
     "end_time": "2023-10-09T09:08:24.513322712Z",
     "start_time": "2023-10-09T09:08:24.348087973Z"
    }
   },
   "id": "7970dd431e3eee85"
  },
  {
   "cell_type": "code",
   "execution_count": 20,
   "outputs": [
    {
     "data": {
      "text/plain": "<OpenAIObject text_completion id=cmpl-87gXQOEYKQduOvRsuzDlNcA44C31F at 0x7f2af9ce68d0> JSON: {\n  \"warning\": \"This model version is deprecated. Migrate before January 4, 2024 to avoid disruption of service. Learn more https://platform.openai.com/docs/deprecations\",\n  \"id\": \"cmpl-87gXQOEYKQduOvRsuzDlNcA44C31F\",\n  \"object\": \"text_completion\",\n  \"created\": 1696842504,\n  \"model\": \"text-davinci-003\",\n  \"choices\": [\n    {\n      \"text\": \"\\n\\n1. Tokyo, Japan\\n2. Delhi, India\\n3. Shanghai, China\\n4. Sao Paulo, Brazil\\n5. Mexico City, Mexico\\n6. Cairo, Egypt\\n7. Beijing, China\\n8. Dhaka, Bangladesh\\n9. Mumbai, India\\n10. Osaka, Japan\",\n      \"index\": 0,\n      \"logprobs\": null,\n      \"finish_reason\": \"stop\"\n    }\n  ],\n  \"usage\": {\n    \"prompt_tokens\": 8,\n    \"completion_tokens\": 64,\n    \"total_tokens\": 72\n  }\n}"
     },
     "execution_count": 20,
     "metadata": {},
     "output_type": "execute_result"
    }
   ],
   "source": [
    "openai.Completion.create(\n",
    "    model = \"text-davinci-003\",\n",
    "    prompt=\"Top 10 most populated cities are: \",\n",
    "    max_tokens=100\n",
    ")"
   ],
   "metadata": {
    "collapsed": false,
    "ExecuteTime": {
     "end_time": "2023-10-09T09:08:26.161078245Z",
     "start_time": "2023-10-09T09:08:24.348270046Z"
    }
   },
   "id": "9015fa7518243282"
  },
  {
   "cell_type": "code",
   "execution_count": 20,
   "outputs": [],
   "source": [],
   "metadata": {
    "collapsed": false,
    "ExecuteTime": {
     "end_time": "2023-10-09T09:08:26.243096333Z",
     "start_time": "2023-10-09T09:08:26.161285506Z"
    }
   },
   "id": "7be1ddafc25fafb4"
  }
 ],
 "metadata": {
  "kernelspec": {
   "display_name": "Python 3",
   "language": "python",
   "name": "python3"
  },
  "language_info": {
   "codemirror_mode": {
    "name": "ipython",
    "version": 2
   },
   "file_extension": ".py",
   "mimetype": "text/x-python",
   "name": "python",
   "nbconvert_exporter": "python",
   "pygments_lexer": "ipython2",
   "version": "2.7.6"
  }
 },
 "nbformat": 4,
 "nbformat_minor": 5
}
