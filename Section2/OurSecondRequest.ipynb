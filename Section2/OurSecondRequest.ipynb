{
 "cells": [
  {
   "cell_type": "code",
   "execution_count": 15,
   "id": "initial_id",
   "metadata": {
    "collapsed": true,
    "ExecuteTime": {
     "end_time": "2023-10-09T08:54:44.723203980Z",
     "start_time": "2023-10-09T08:54:43.476572755Z"
    }
   },
   "outputs": [
    {
     "name": "stdout",
     "output_type": "stream",
     "text": [
      "Requirement already satisfied: openai in /veriler/python/venv/lib/python3.11/site-packages (0.28.1)\r\n",
      "Requirement already satisfied: requests>=2.20 in /veriler/python/venv/lib/python3.11/site-packages (from openai) (2.31.0)\r\n",
      "Requirement already satisfied: tqdm in /veriler/python/venv/lib/python3.11/site-packages (from openai) (4.66.1)\r\n",
      "Requirement already satisfied: aiohttp in /veriler/python/venv/lib/python3.11/site-packages (from openai) (3.8.6)\r\n",
      "Requirement already satisfied: charset-normalizer<4,>=2 in /veriler/python/venv/lib/python3.11/site-packages (from requests>=2.20->openai) (3.3.0)\r\n",
      "Requirement already satisfied: idna<4,>=2.5 in /veriler/python/venv/lib/python3.11/site-packages (from requests>=2.20->openai) (3.4)\r\n",
      "Requirement already satisfied: urllib3<3,>=1.21.1 in /veriler/python/venv/lib/python3.11/site-packages (from requests>=2.20->openai) (2.0.6)\r\n",
      "Requirement already satisfied: certifi>=2017.4.17 in /veriler/python/venv/lib/python3.11/site-packages (from requests>=2.20->openai) (2023.7.22)\r\n",
      "Requirement already satisfied: attrs>=17.3.0 in /veriler/python/venv/lib/python3.11/site-packages (from aiohttp->openai) (23.1.0)\r\n",
      "Requirement already satisfied: multidict<7.0,>=4.5 in /veriler/python/venv/lib/python3.11/site-packages (from aiohttp->openai) (6.0.4)\r\n",
      "Requirement already satisfied: async-timeout<5.0,>=4.0.0a3 in /veriler/python/venv/lib/python3.11/site-packages (from aiohttp->openai) (4.0.3)\r\n",
      "Requirement already satisfied: yarl<2.0,>=1.0 in /veriler/python/venv/lib/python3.11/site-packages (from aiohttp->openai) (1.9.2)\r\n",
      "Requirement already satisfied: frozenlist>=1.1.1 in /veriler/python/venv/lib/python3.11/site-packages (from aiohttp->openai) (1.4.0)\r\n",
      "Requirement already satisfied: aiosignal>=1.1.2 in /veriler/python/venv/lib/python3.11/site-packages (from aiohttp->openai) (1.3.1)\r\n",
      "Note: you may need to restart the kernel to use updated packages.\n"
     ]
    }
   ],
   "source": [
    "pip install openai"
   ]
  },
  {
   "cell_type": "code",
   "execution_count": 16,
   "outputs": [
    {
     "name": "stdout",
     "output_type": "stream",
     "text": [
      "Requirement already satisfied: python-dotenv in /veriler/python/venv/lib/python3.11/site-packages (1.0.0)\r\n",
      "Note: you may need to restart the kernel to use updated packages.\n"
     ]
    }
   ],
   "source": [
    "pip install python-dotenv"
   ],
   "metadata": {
    "collapsed": false,
    "ExecuteTime": {
     "end_time": "2023-10-09T08:54:45.782913867Z",
     "start_time": "2023-10-09T08:54:44.677442284Z"
    }
   },
   "id": "227084ff3568cb19"
  },
  {
   "cell_type": "code",
   "execution_count": 17,
   "outputs": [],
   "source": [
    "import openai"
   ],
   "metadata": {
    "collapsed": false,
    "ExecuteTime": {
     "end_time": "2023-10-09T08:54:45.783299533Z",
     "start_time": "2023-10-09T08:54:45.719286899Z"
    }
   },
   "id": "cd4bf470714359dc"
  },
  {
   "cell_type": "code",
   "execution_count": 18,
   "outputs": [],
   "source": [
    "from dotenv import dotenv_values\n",
    "config = dotenv_values(\"../.env\")"
   ],
   "metadata": {
    "collapsed": false,
    "ExecuteTime": {
     "end_time": "2023-10-09T08:54:45.783535387Z",
     "start_time": "2023-10-09T08:54:45.723792144Z"
    }
   },
   "id": "fdaece001f27db6c"
  },
  {
   "cell_type": "code",
   "execution_count": 19,
   "outputs": [],
   "source": [
    "openai.api_key = config[\"OPEN_API_KEY\"]"
   ],
   "metadata": {
    "collapsed": false,
    "ExecuteTime": {
     "end_time": "2023-10-09T08:54:45.783763096Z",
     "start_time": "2023-10-09T08:54:45.736048254Z"
    }
   },
   "id": "7970dd431e3eee85"
  },
  {
   "cell_type": "code",
   "execution_count": 20,
   "outputs": [
    {
     "data": {
      "text/plain": "<OpenAIObject text_completion id=cmpl-87gKElzdw0dqIR7594Atmsaf8g99d at 0x7fe06a4fd8b0> JSON: {\n  \"warning\": \"This model version is deprecated. Migrate before January 4, 2024 to avoid disruption of service. Learn more https://platform.openai.com/docs/deprecations\",\n  \"id\": \"cmpl-87gKElzdw0dqIR7594Atmsaf8g99d\",\n  \"object\": \"text_completion\",\n  \"created\": 1696841686,\n  \"model\": \"text-davinci-003\",\n  \"choices\": [\n    {\n      \"text\": \"\\n\\nHappy birthday to you,\\nFrom all of us to you,\\n\",\n      \"index\": 0,\n      \"logprobs\": null,\n      \"finish_reason\": \"length\"\n    }\n  ],\n  \"usage\": {\n    \"prompt_tokens\": 7,\n    \"completion_tokens\": 16,\n    \"total_tokens\": 23\n  }\n}"
     },
     "execution_count": 20,
     "metadata": {},
     "output_type": "execute_result"
    }
   ],
   "source": [
    "openai.Completion.create(\n",
    "    model = \"text-davinci-003\",\n",
    "    prompt=\"Happy birthday to you Ahmet \"\n",
    ")"
   ],
   "metadata": {
    "collapsed": false,
    "ExecuteTime": {
     "end_time": "2023-10-09T08:54:46.445131787Z",
     "start_time": "2023-10-09T08:54:45.786175208Z"
    }
   },
   "id": "9015fa7518243282"
  },
  {
   "cell_type": "code",
   "execution_count": 20,
   "outputs": [],
   "source": [],
   "metadata": {
    "collapsed": false,
    "ExecuteTime": {
     "end_time": "2023-10-09T08:54:46.445543292Z",
     "start_time": "2023-10-09T08:54:46.411887313Z"
    }
   },
   "id": "7be1ddafc25fafb4"
  }
 ],
 "metadata": {
  "kernelspec": {
   "display_name": "Python 3",
   "language": "python",
   "name": "python3"
  },
  "language_info": {
   "codemirror_mode": {
    "name": "ipython",
    "version": 2
   },
   "file_extension": ".py",
   "mimetype": "text/x-python",
   "name": "python",
   "nbconvert_exporter": "python",
   "pygments_lexer": "ipython2",
   "version": "2.7.6"
  }
 },
 "nbformat": 4,
 "nbformat_minor": 5
}
