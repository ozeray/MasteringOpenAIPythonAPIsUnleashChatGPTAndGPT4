{
 "cells": [
  {
   "cell_type": "code",
   "execution_count": 34,
   "outputs": [],
   "source": [
    "import openai"
   ],
   "metadata": {
    "collapsed": false,
    "ExecuteTime": {
     "end_time": "2023-10-11T23:10:04.260845098Z",
     "start_time": "2023-10-11T23:10:04.150676129Z"
    }
   },
   "id": "cd4bf470714359dc"
  },
  {
   "cell_type": "code",
   "execution_count": 35,
   "outputs": [],
   "source": [
    "import json"
   ],
   "metadata": {
    "collapsed": false,
    "ExecuteTime": {
     "end_time": "2023-10-11T23:10:04.261206189Z",
     "start_time": "2023-10-11T23:10:04.193190200Z"
    }
   },
   "id": "19348832dff5cc7"
  },
  {
   "cell_type": "code",
   "execution_count": 36,
   "outputs": [],
   "source": [
    "from dotenv import dotenv_values\n",
    "config = dotenv_values(\"../.env\")"
   ],
   "metadata": {
    "collapsed": false,
    "ExecuteTime": {
     "end_time": "2023-10-11T23:10:04.261444508Z",
     "start_time": "2023-10-11T23:10:04.193475438Z"
    }
   },
   "id": "fdaece001f27db6c"
  },
  {
   "cell_type": "code",
   "execution_count": 37,
   "outputs": [],
   "source": [
    "openai.api_key = config[\"OPEN_API_KEY\"]"
   ],
   "metadata": {
    "collapsed": false,
    "ExecuteTime": {
     "end_time": "2023-10-11T23:10:04.261647190Z",
     "start_time": "2023-10-11T23:10:04.193688259Z"
    }
   },
   "id": "7970dd431e3eee85"
  },
  {
   "cell_type": "code",
   "execution_count": 38,
   "outputs": [],
   "source": [
    "from IPython.display import Markdown, display\n",
    "\n",
    "def display_colors(colors):\n",
    "    display(Markdown(\" \".join(f\"<span style='color:{color}'>{3 * chr(9608)}</span>\"\n",
    "                              for color in colors)))\n",
    "#display_colors([\"#FDE8EE\", \"#F5A5AA\", \"#D96B9E\", \"#6C4675\", \"#4B3B59\", \"#F79263\", \"#FCD581\"])"
   ],
   "metadata": {
    "collapsed": false,
    "ExecuteTime": {
     "end_time": "2023-10-11T23:10:04.261850604Z",
     "start_time": "2023-10-11T23:10:04.193895320Z"
    }
   },
   "id": "6f785b81e4862eb0"
  },
  {
   "cell_type": "code",
   "execution_count": 46,
   "outputs": [],
   "source": [
    "def get_and_render_colors(text):\n",
    "    prompt = f\"\"\"\n",
    "    You are a color palette generating assistant that responds to text prompts for color palettes. You should generate color palettes that fit the theme, mood, or instructions in the prompt. The palettes should be between 2 and 8 colors.\n",
    "    \n",
    "    Q: Convert the following description of a color palette into a list of colors: The Mediterranean Sea\n",
    "    A: [\"#006699\", \"#66CCCC\", \"#F0E68C\", \"#008000\", \"#F08080\"]\n",
    "    \n",
    "    Q: Convert the following description of a color palette into a list of colors: sage, nature, earth\n",
    "    A: [\"#EDF1D6\", \"#9DC08B\", \"#609966\", \"#40513B\"]\n",
    "      \n",
    "    Desired Format: a JSON array of hexadecimal color codes\n",
    "    Q: Convert the following description of a color palette into a list of colors: {text}\n",
    "    A:\n",
    "    \"\"\"\n",
    "    \n",
    "    response = openai.Completion.create(\n",
    "        prompt=prompt,\n",
    "        model = \"text-davinci-003\",\n",
    "        max_tokens=200,\n",
    "    )\n",
    "    \n",
    "    colors = json.loads(response[\"choices\"][0][\"text\"])    \n",
    "    print(colors)\n",
    "    display_colors(colors)"
   ],
   "metadata": {
    "collapsed": false,
    "ExecuteTime": {
     "end_time": "2023-10-11T23:12:58.168681933Z",
     "start_time": "2023-10-11T23:12:58.143222021Z"
    }
   },
   "id": "9015fa7518243282"
  },
  {
   "cell_type": "code",
   "execution_count": 47,
   "outputs": [
    {
     "name": "stdout",
     "output_type": "stream",
     "text": [
      "['#FE4A49', '#FFEDBC', '#FFE2A8', '#FF9F1C', '#F7E8A2', '#F8F3EB', '#38B6FF']\n"
     ]
    },
    {
     "data": {
      "text/plain": "<IPython.core.display.Markdown object>",
      "text/markdown": "<span style='color:#FE4A49'>███</span> <span style='color:#FFEDBC'>███</span> <span style='color:#FFE2A8'>███</span> <span style='color:#FF9F1C'>███</span> <span style='color:#F7E8A2'>███</span> <span style='color:#F8F3EB'>███</span> <span style='color:#38B6FF'>███</span>"
     },
     "metadata": {},
     "output_type": "display_data"
    }
   ],
   "source": [
    "get_and_render_colors('a beautiful sunset')"
   ],
   "metadata": {
    "collapsed": false,
    "ExecuteTime": {
     "end_time": "2023-10-11T23:13:03.373015022Z",
     "start_time": "2023-10-11T23:13:01.790378103Z"
    }
   },
   "id": "b7e4a34ef3f17108"
  },
  {
   "cell_type": "code",
   "execution_count": 48,
   "outputs": [
    {
     "name": "stdout",
     "output_type": "stream",
     "text": [
      "['#4285F4', '#0F9D58', '#DB4437', '#F4B400']\n"
     ]
    },
    {
     "data": {
      "text/plain": "<IPython.core.display.Markdown object>",
      "text/markdown": "<span style='color:#4285F4'>███</span> <span style='color:#0F9D58'>███</span> <span style='color:#DB4437'>███</span> <span style='color:#F4B400'>███</span>"
     },
     "metadata": {},
     "output_type": "display_data"
    }
   ],
   "source": [
    "get_and_render_colors('4 Google colors')"
   ],
   "metadata": {
    "collapsed": false,
    "ExecuteTime": {
     "end_time": "2023-10-11T23:15:44.184868012Z",
     "start_time": "2023-10-11T23:15:43.364299130Z"
    }
   },
   "id": "64fa34b6e9dafb85"
  },
  {
   "cell_type": "code",
   "execution_count": 50,
   "outputs": [
    {
     "name": "stdout",
     "output_type": "stream",
     "text": [
      "['#FFBF00', '#FFC367', '#E2E61C', '#6DCE51', '#348361']\n"
     ]
    },
    {
     "data": {
      "text/plain": "<IPython.core.display.Markdown object>",
      "text/markdown": "<span style='color:#FFBF00'>███</span> <span style='color:#FFC367'>███</span> <span style='color:#E2E61C'>███</span> <span style='color:#6DCE51'>███</span> <span style='color:#348361'>███</span>"
     },
     "metadata": {},
     "output_type": "display_data"
    }
   ],
   "source": [
    "get_and_render_colors('Iyd fest')"
   ],
   "metadata": {
    "collapsed": false,
    "ExecuteTime": {
     "end_time": "2023-10-11T23:16:24.935917879Z",
     "start_time": "2023-10-11T23:16:24.122241916Z"
    }
   },
   "id": "6db11413ce699d6b"
  },
  {
   "cell_type": "code",
   "execution_count": 51,
   "outputs": [
    {
     "name": "stdout",
     "output_type": "stream",
     "text": [
      "['#FFFFFF', '#009246', '#F4C430']\n"
     ]
    },
    {
     "data": {
      "text/plain": "<IPython.core.display.Markdown object>",
      "text/markdown": "<span style='color:#FFFFFF'>███</span> <span style='color:#009246'>███</span> <span style='color:#F4C430'>███</span>"
     },
     "metadata": {},
     "output_type": "display_data"
    }
   ],
   "source": [
    "get_and_render_colors('colors of the Italian flag')"
   ],
   "metadata": {
    "collapsed": false,
    "ExecuteTime": {
     "end_time": "2023-10-11T23:17:43.273074920Z",
     "start_time": "2023-10-11T23:17:42.631346099Z"
    }
   },
   "id": "9869d40e42d12876"
  },
  {
   "cell_type": "code",
   "execution_count": null,
   "outputs": [],
   "source": [],
   "metadata": {
    "collapsed": false
   },
   "id": "491ecc243b30f6da"
  }
 ],
 "metadata": {
  "kernelspec": {
   "display_name": "Python 3",
   "language": "python",
   "name": "python3"
  },
  "language_info": {
   "codemirror_mode": {
    "name": "ipython",
    "version": 2
   },
   "file_extension": ".py",
   "mimetype": "text/x-python",
   "name": "python",
   "nbconvert_exporter": "python",
   "pygments_lexer": "ipython2",
   "version": "2.7.6"
  }
 },
 "nbformat": 4,
 "nbformat_minor": 5
}
